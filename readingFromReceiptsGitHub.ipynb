{
 "cells": [
  {
   "cell_type": "markdown",
   "id": "9225f645-b833-42b7-9dff-20d687d7dfb4",
   "metadata": {},
   "source": [
    "Install the required Python modules. Depending on your environment, you may need additional modules."
   ]
  },
  {
   "cell_type": "code",
   "execution_count": null,
   "id": "6c1f9480-9e6f-4db7-9cce-ffe06b7cc4bc",
   "metadata": {},
   "outputs": [],
   "source": [
    "# module required to parse PDF file\n",
    "%pip install pdfplumber\n",
    "# for the creation of tables, similar to R\n",
    "%pip install pandas"
   ]
  },
  {
   "cell_type": "markdown",
   "id": "7217e8c1-fce9-4d7d-b819-c5dc704fb57b",
   "metadata": {},
   "source": [
    "Importing of required dependencies:"
   ]
  },
  {
   "cell_type": "code",
   "execution_count": null,
   "id": "ed7c0e77-5f16-43c3-b8d3-87c0f3cf737b",
   "metadata": {},
   "outputs": [],
   "source": [
    "import os\n",
    "import pdfplumber\n",
    "from dotenv import load_dotenv\n",
    "import anthropic\n",
    "from IPython.display import Markdown, display, update_display\n",
    "import json\n",
    "import pandas as pd"
   ]
  },
  {
   "cell_type": "markdown",
   "id": "5c7db6b5-a1de-4357-ac10-015e1018563d",
   "metadata": {},
   "source": [
    "Define the path to the folder containing your PDF files:"
   ]
  },
  {
   "cell_type": "code",
   "execution_count": null,
   "id": "73f89195-5d3d-4c0f-8600-a89df5cdee85",
   "metadata": {},
   "outputs": [],
   "source": [
    "folderPath = r\"C:\\your\\folder\""
   ]
  },
  {
   "cell_type": "markdown",
   "id": "be45a694-052c-4efd-85ec-c2ed9c53e061",
   "metadata": {},
   "source": [
    "Add the names of PDF files to a list:"
   ]
  },
  {
   "cell_type": "code",
   "execution_count": null,
   "id": "40192e56-7bd9-4e27-a3ac-9a899037ff65",
   "metadata": {},
   "outputs": [],
   "source": [
    "def listPDFs(path):\n",
    "    return [f for f in os.listdir(path) if f.endswith(\".pdf\")]"
   ]
  },
  {
   "cell_type": "code",
   "execution_count": null,
   "id": "ba4f0fe4-965c-4169-bf6d-16944f9acecb",
   "metadata": {},
   "outputs": [],
   "source": [
    "listOfReceipts = listPDFs(folderPath)"
   ]
  },
  {
   "cell_type": "markdown",
   "id": "cced784b-9970-44e5-bfd8-ebd7aaf158b3",
   "metadata": {},
   "source": [
    "This code uses an API key for Anthropic. You can substitute another LLM, though I haven’t tested alternatives yet. For background and examples, see Ed Donner’s Udemy course and GitHub repository (linked in the README). Load your API key below:"
   ]
  },
  {
   "cell_type": "code",
   "execution_count": null,
   "id": "9328715d-6be1-412d-917b-79c17dd747e6",
   "metadata": {},
   "outputs": [],
   "source": [
    "load_dotenv(override=True)\n",
    "anthropic_api_key = os.getenv('ANTHROPIC_API_KEY')"
   ]
  },
  {
   "cell_type": "markdown",
   "id": "b67bca84-d985-4b18-ae6f-ac9379a09820",
   "metadata": {},
   "source": [
    "Extract all text from PDF files and add to a dictionary:"
   ]
  },
  {
   "cell_type": "code",
   "execution_count": null,
   "id": "f6ce6970-ddf6-4725-8d11-c1c7da45c459",
   "metadata": {},
   "outputs": [],
   "source": [
    "# extracting all text from the PDF files within a folder and saving them in a dictionary\n",
    "def extractTextFromReceipts(folderPath, listOfReceipts):\n",
    "    extractedTexts = {}\n",
    "\n",
    "    for receiptName in listOfReceipts:\n",
    "        filePath = os.path.join(folderPath, receiptName)\n",
    "        allText = \"\"\n",
    "\n",
    "        try:\n",
    "            with pdfplumber.open(filePath) as pdf:\n",
    "                for page in pdf.pages:\n",
    "                    text = page.extract_text()\n",
    "                    if text:\n",
    "                        allText += text + \"\\n\"\n",
    "        except Exception as e:\n",
    "            print(f\"Error processing {filePath}: {e}\")\n",
    "            allText = None\n",
    "\n",
    "        extractedTexts[receiptName] = allText\n",
    "\n",
    "    return extractedTexts"
   ]
  },
  {
   "cell_type": "code",
   "execution_count": null,
   "id": "d277ebc1-e582-49fb-8f36-9441f6e50428",
   "metadata": {},
   "outputs": [],
   "source": [
    "allExtractedReceipts = extractTextFromReceipts(folderPath, listOfReceipts)"
   ]
  },
  {
   "cell_type": "markdown",
   "id": "73406ffc-5c28-4015-aede-bdbae55a6dd4",
   "metadata": {},
   "source": [
    "Connect to Anthropic:"
   ]
  },
  {
   "cell_type": "code",
   "execution_count": null,
   "id": "81d3eca9-0b14-4788-94e2-f74b480b7e39",
   "metadata": {},
   "outputs": [],
   "source": [
    "claude = anthropic.Anthropic()"
   ]
  },
  {
   "cell_type": "markdown",
   "id": "7521396c-3c39-4aff-b835-0c87a73a3384",
   "metadata": {},
   "source": [
    "Set the system message to guide the LLM’s behavior and response style. Ensure the output format is structured in a way that can later be converted into a Python dictionary."
   ]
  },
  {
   "cell_type": "code",
   "execution_count": null,
   "id": "858a8e87-aa40-49da-9de4-4a797488a6da",
   "metadata": {},
   "outputs": [],
   "source": [
    "system_message = \"\"\"\n",
    "    You are an expert in interpreting receipts and bills from text extracts. Your task is to identify the transaction date, total spend, and the overall type of expense. Assume all amounts are in British Pounds unless the text clearly indicates otherwise.\n",
    "    You understand that OCR quality may be poor — for example, digits like '1' and '7' may be confused. If the receipt contains multiple line items, calculate their sum and compare it to any stated total. If multiple totals are present, use judgment to determine the most likely correct figure.\n",
    "    If the receipt text is empty or unreadable, return \"NA\" for all fields.\n",
    "    If multiple dates appear, select the earliest one that plausibly represents the transaction date. Format your response in JSON as shown below:\\n \"\"\"\n",
    "system_message += \"\"\"\n",
    "    {\"name of file\": \"nameOfPDFFile.pdf\", \n",
    "        \"date\": \"15 December 2021\",\n",
    "        \"total spend\": \"£18.43\",\n",
    "        \"type\": \"train ticket\"}\n",
    "    \"\"\""
   ]
  },
  {
   "cell_type": "markdown",
   "id": "d35aade7-8e7a-4d51-b4b6-f3960e1ef542",
   "metadata": {},
   "source": [
    "Loop through each entry in the dictionary of parsed receipt texts and call the LLM to extract the transaction date, total amount, and expense type. Combine the results into a DataFrame, which can later be joined with bank statement data (not shown)."
   ]
  },
  {
   "cell_type": "code",
   "execution_count": null,
   "id": "f751abd7-a02d-442c-8a17-9ca6e363e56f",
   "metadata": {},
   "outputs": [],
   "source": [
    "# Initialise list to collect parsed outputs\n",
    "parsedReceipts = []\n",
    "\n",
    "# Loop through each receipt\n",
    "for filename, text in allExtractedReceipts.items():\n",
    "    user_prompt = f\"\"\"\n",
    "        Please extract the transaction date, total spend, and type of expense from the receipt text below. The name of the PDF file may offer clues about the date or nature of the transaction.\n",
    "      \n",
    "        name of file: {filename}\n",
    "\n",
    "        Text extract of receipt:\n",
    "        {text}\n",
    "        \"\"\"\n",
    "\n",
    "    try:\n",
    "        # Call Claude\n",
    "        message = claude.messages.create(\n",
    "            model=\"claude-3-haiku-20240307\",\n",
    "            max_tokens=400,\n",
    "            temperature=0,\n",
    "            system=system_message,\n",
    "            messages=[{\"role\": \"user\", \"content\": user_prompt}],\n",
    "        )\n",
    "\n",
    "        # Clean and parse JSON response\n",
    "        raw = message.content[0].text.strip(\"`\").strip(\"json\").strip()\n",
    "        parsed = json.loads(raw)\n",
    "\n",
    "        # Append to list\n",
    "        parsedReceipts.append(parsed)\n",
    "\n",
    "    except Exception as e:\n",
    "        print(f\"Error processing {filename}: {e}\")\n",
    "        parsedReceipts.append({\n",
    "            \"name of file\": filename,\n",
    "            \"date\": \"NA\",\n",
    "            \"total spend\": \"NA\",\n",
    "            \"type\": \"NA\"\n",
    "        })\n",
    "\n",
    "# Convert to DataFrame\n",
    "df_receipts = pd.DataFrame(parsedReceipts)\n",
    "\n",
    "# Preview\n",
    "print(df_receipts.head())\n"
   ]
  },
  {
   "cell_type": "markdown",
   "id": "8d5bd4ec-fd87-499f-a3c9-806658bf6001",
   "metadata": {},
   "source": [
    "You can save the resulting DataFrame as a CSV file for downstream use."
   ]
  },
  {
   "cell_type": "code",
   "execution_count": null,
   "id": "178dc39c-be72-43e5-93b2-c5abf410d7f3",
   "metadata": {},
   "outputs": [],
   "source": [
    "# save the data-frame as a CSV file\n",
    "df_receipts.to_csv(r\"C:\\your\\folder\\receiptsSummary.csv\", index=False, encoding=\"utf-8-sig\")"
   ]
  }
 ],
 "metadata": {
  "kernelspec": {
   "display_name": "Python 3 (ipykernel)",
   "language": "python",
   "name": "python3"
  },
  "language_info": {
   "codemirror_mode": {
    "name": "ipython",
    "version": 3
   },
   "file_extension": ".py",
   "mimetype": "text/x-python",
   "name": "python",
   "nbconvert_exporter": "python",
   "pygments_lexer": "ipython3",
   "version": "3.11.13"
  }
 },
 "nbformat": 4,
 "nbformat_minor": 5
}
